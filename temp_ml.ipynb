{
 "cells": [
  {
   "cell_type": "code",
   "execution_count": 1,
   "metadata": {},
   "outputs": [
    {
     "name": "stdout",
     "output_type": "stream",
     "text": [
      "WARNING:tensorflow:From c:\\Users\\OM MEHRA\\AppData\\Local\\Programs\\Python\\Python311\\Lib\\site-packages\\keras\\src\\losses.py:2976: The name tf.losses.sparse_softmax_cross_entropy is deprecated. Please use tf.compat.v1.losses.sparse_softmax_cross_entropy instead.\n",
      "\n"
     ]
    }
   ],
   "source": [
    "import pandas as pd\n",
    "import numpy as np\n",
    "from sklearn.model_selection import train_test_split\n",
    "from sklearn.preprocessing import LabelEncoder\n",
    "from tensorflow.keras.preprocessing.text import Tokenizer\n",
    "from tensorflow.keras.preprocessing.sequence import pad_sequences\n",
    "from tensorflow.keras.models import Sequential\n",
    "from tensorflow.keras.layers import Embedding, LSTM, Dense"
   ]
  },
  {
   "cell_type": "code",
   "execution_count": 2,
   "metadata": {},
   "outputs": [
    {
     "data": {
      "text/html": [
       "<div>\n",
       "<style scoped>\n",
       "    .dataframe tbody tr th:only-of-type {\n",
       "        vertical-align: middle;\n",
       "    }\n",
       "\n",
       "    .dataframe tbody tr th {\n",
       "        vertical-align: top;\n",
       "    }\n",
       "\n",
       "    .dataframe thead th {\n",
       "        text-align: right;\n",
       "    }\n",
       "</style>\n",
       "<table border=\"1\" class=\"dataframe\">\n",
       "  <thead>\n",
       "    <tr style=\"text-align: right;\">\n",
       "      <th></th>\n",
       "      <th>Sanskrit</th>\n",
       "      <th>Sandhi_split</th>\n",
       "    </tr>\n",
       "  </thead>\n",
       "  <tbody>\n",
       "    <tr>\n",
       "      <th>0</th>\n",
       "      <td>गच्छामि</td>\n",
       "      <td>गच्छ,अमि</td>\n",
       "    </tr>\n",
       "    <tr>\n",
       "      <th>1</th>\n",
       "      <td>भवार्जुन</td>\n",
       "      <td>भव,अर्जुन</td>\n",
       "    </tr>\n",
       "    <tr>\n",
       "      <th>2</th>\n",
       "      <td>भीष्मासभरक्षितम्</td>\n",
       "      <td>भीष्म,असभ,रक्षितम्</td>\n",
       "    </tr>\n",
       "    <tr>\n",
       "      <th>3</th>\n",
       "      <td>पाण्डवाश्चैव</td>\n",
       "      <td>पाण्डवास्,च,एव</td>\n",
       "    </tr>\n",
       "    <tr>\n",
       "      <th>4</th>\n",
       "      <td>प्रथमोऽध्यायः</td>\n",
       "      <td>प्रथमस्,अध्यायस</td>\n",
       "    </tr>\n",
       "    <tr>\n",
       "      <th>5</th>\n",
       "      <td>ॐ</td>\n",
       "      <td>ओम</td>\n",
       "    </tr>\n",
       "    <tr>\n",
       "      <th>6</th>\n",
       "      <td>ज्ञानयोगेन</td>\n",
       "      <td>ज्ञान,योगेन</td>\n",
       "    </tr>\n",
       "    <tr>\n",
       "      <th>7</th>\n",
       "      <td>कृष्णैकत्वम्</td>\n",
       "      <td>कृष्ण,एकत्वम्</td>\n",
       "    </tr>\n",
       "    <tr>\n",
       "      <th>8</th>\n",
       "      <td>विद्यालयः</td>\n",
       "      <td>विद्या,आलयः</td>\n",
       "    </tr>\n",
       "    <tr>\n",
       "      <th>9</th>\n",
       "      <td>नमसीश्वरम्</td>\n",
       "      <td>नमसि,ईश्वरम्</td>\n",
       "    </tr>\n",
       "    <tr>\n",
       "      <th>10</th>\n",
       "      <td>भानूदयः</td>\n",
       "      <td>भानु,उदयः</td>\n",
       "    </tr>\n",
       "  </tbody>\n",
       "</table>\n",
       "</div>"
      ],
      "text/plain": [
       "             Sanskrit        Sandhi_split\n",
       "0             गच्छामि            गच्छ,अमि\n",
       "1            भवार्जुन           भव,अर्जुन\n",
       "2   भीष्मासभरक्षितम्   भीष्म,असभ,रक्षितम्\n",
       "3        पाण्डवाश्चैव      पाण्डवास्,च,एव\n",
       "4       प्रथमोऽध्यायः     प्रथमस्,अध्यायस\n",
       "5                   ॐ                  ओम\n",
       "6          ज्ञानयोगेन         ज्ञान,योगेन\n",
       "7        कृष्णैकत्वम्       कृष्ण,एकत्वम्\n",
       "8           विद्यालयः         विद्या,आलयः\n",
       "9          नमसीश्वरम्        नमसि,ईश्वरम्\n",
       "10            भानूदयः           भानु,उदयः"
      ]
     },
     "execution_count": 2,
     "metadata": {},
     "output_type": "execute_result"
    }
   ],
   "source": [
    "data = pd.read_excel('Sandhi.xlsx')\n",
    "data"
   ]
  },
  {
   "cell_type": "code",
   "execution_count": 3,
   "metadata": {},
   "outputs": [],
   "source": [
    "X = data['Sanskrit']\n",
    "y = data['Sandhi_split']"
   ]
  },
  {
   "cell_type": "code",
   "execution_count": null,
   "metadata": {},
   "outputs": [],
   "source": [
    "tokenizer = Tokenizer(char_level=True)\n",
    "tokenizer.fit_on_texts(X)\n",
    "\n",
    "# Convert characters to sequences of integers\n",
    "X_seq = tokenizer.texts_to_sequences(X)\n",
    "\n",
    "# Padding sequences to ensure uniform length\n",
    "X_padded = pad_sequences(X_seq)\n",
    "\n",
    "# Label encoding for target\n",
    "label_encoder = LabelEncoder()\n",
    "y_encoded = label_encoder.fit_transform(y)\n",
    "\n",
    "# Splitting data into training and testing sets\n",
    "X_train, X_test, y_train, y_test = train_test_split(X_padded, y_encoded, test_size=0.2, random_state=42)\n",
    "\n",
    "# Building the RNN model\n",
    "vocab_size = len(tokenizer.word_index) + 1\n",
    "max_len = X_padded.shape[1]\n",
    "\n",
    "model = Sequential([\n",
    "    Embedding(vocab_size, 50, input_length=max_len),\n",
    "    LSTM(100, dropout=0.2, recurrent_dropout=0.2),\n",
    "    Dense(64, activation='relu'),\n",
    "    Dense(len(label_encoder.classes_), activation='softmax')\n",
    "])\n",
    "\n",
    "model.compile(loss='sparse_categorical_crossentropy', optimizer='adam', metrics=['accuracy'])\n"
   ]
  },
  {
   "cell_type": "code",
   "execution_count": 17,
   "metadata": {},
   "outputs": [
    {
     "name": "stdout",
     "output_type": "stream",
     "text": [
      "Epoch 1/10\n",
      "WARNING:tensorflow:From c:\\Users\\OM MEHRA\\AppData\\Local\\Programs\\Python\\Python311\\Lib\\site-packages\\keras\\src\\utils\\tf_utils.py:492: The name tf.ragged.RaggedTensorValue is deprecated. Please use tf.compat.v1.ragged.RaggedTensorValue instead.\n",
      "\n",
      "WARNING:tensorflow:From c:\\Users\\OM MEHRA\\AppData\\Local\\Programs\\Python\\Python311\\Lib\\site-packages\\keras\\src\\engine\\base_layer_utils.py:384: The name tf.executing_eagerly_outside_functions is deprecated. Please use tf.compat.v1.executing_eagerly_outside_functions instead.\n",
      "\n",
      "1/1 [==============================] - 6s 6s/step - loss: 2.3974 - accuracy: 0.1667 - val_loss: 2.4081 - val_accuracy: 0.0000e+00\n",
      "Epoch 2/10\n",
      "1/1 [==============================] - 0s 55ms/step - loss: 2.3883 - accuracy: 0.3333 - val_loss: 2.4117 - val_accuracy: 0.0000e+00\n",
      "Epoch 3/10\n",
      "1/1 [==============================] - 0s 51ms/step - loss: 2.3812 - accuracy: 0.3333 - val_loss: 2.4158 - val_accuracy: 0.0000e+00\n",
      "Epoch 4/10\n",
      "1/1 [==============================] - 0s 56ms/step - loss: 2.3689 - accuracy: 0.5000 - val_loss: 2.4209 - val_accuracy: 0.0000e+00\n",
      "Epoch 5/10\n",
      "1/1 [==============================] - 0s 52ms/step - loss: 2.3633 - accuracy: 0.3333 - val_loss: 2.4272 - val_accuracy: 0.0000e+00\n",
      "Epoch 6/10\n",
      "1/1 [==============================] - 0s 51ms/step - loss: 2.3506 - accuracy: 0.5000 - val_loss: 2.4340 - val_accuracy: 0.0000e+00\n",
      "Epoch 7/10\n",
      "1/1 [==============================] - 0s 50ms/step - loss: 2.3424 - accuracy: 0.3333 - val_loss: 2.4421 - val_accuracy: 0.0000e+00\n",
      "Epoch 8/10\n",
      "1/1 [==============================] - 0s 66ms/step - loss: 2.3259 - accuracy: 0.3333 - val_loss: 2.4526 - val_accuracy: 0.0000e+00\n",
      "Epoch 9/10\n",
      "1/1 [==============================] - 0s 66ms/step - loss: 2.3106 - accuracy: 0.3333 - val_loss: 2.4661 - val_accuracy: 0.0000e+00\n",
      "Epoch 10/10\n",
      "1/1 [==============================] - 0s 57ms/step - loss: 2.2937 - accuracy: 0.3333 - val_loss: 2.4840 - val_accuracy: 0.0000e+00\n"
     ]
    },
    {
     "data": {
      "text/plain": [
       "<keras.src.callbacks.History at 0x20923c2da50>"
      ]
     },
     "execution_count": 17,
     "metadata": {},
     "output_type": "execute_result"
    }
   ],
   "source": [
    "model.fit(X_train, y_train, epochs=10, batch_size=32, validation_split=0.2)"
   ]
  },
  {
   "cell_type": "code",
   "execution_count": 18,
   "metadata": {},
   "outputs": [
    {
     "name": "stdout",
     "output_type": "stream",
     "text": [
      "1/1 [==============================] - 0s 96ms/step - loss: 2.4545 - accuracy: 0.0000e+00\n",
      "Test Accuracy: 0.00\n"
     ]
    }
   ],
   "source": [
    "loss, accuracy = model.evaluate(X_test, y_test)\n",
    "print(f\"Test Accuracy: {accuracy:.2f}\")"
   ]
  },
  {
   "cell_type": "code",
   "execution_count": 19,
   "metadata": {},
   "outputs": [
    {
     "name": "stdout",
     "output_type": "stream",
     "text": [
      "1/1 [==============================] - 0s 311ms/step\n",
      "Prediction for 'विद्यालयः': भानु,उदयः\n"
     ]
    }
   ],
   "source": [
    "example_text = [\"विद्यालयः\"]\n",
    "example_seq = tokenizer.texts_to_sequences(example_text)\n",
    "example_padded = pad_sequences(example_seq, maxlen=max_len)\n",
    "prediction = model.predict(example_padded)\n",
    "predicted_class = label_encoder.inverse_transform([np.argmax(prediction)])\n",
    "print(f\"Prediction for '{example_text[0]}': {predicted_class[0]}\")"
   ]
  },
  {
   "cell_type": "code",
   "execution_count": null,
   "metadata": {},
   "outputs": [],
   "source": []
  },
  {
   "cell_type": "code",
   "execution_count": null,
   "metadata": {},
   "outputs": [],
   "source": []
  }
 ],
 "metadata": {
  "kernelspec": {
   "display_name": "Python 3",
   "language": "python",
   "name": "python3"
  },
  "language_info": {
   "codemirror_mode": {
    "name": "ipython",
    "version": 3
   },
   "file_extension": ".py",
   "mimetype": "text/x-python",
   "name": "python",
   "nbconvert_exporter": "python",
   "pygments_lexer": "ipython3",
   "version": "3.11.7"
  }
 },
 "nbformat": 4,
 "nbformat_minor": 2
}
